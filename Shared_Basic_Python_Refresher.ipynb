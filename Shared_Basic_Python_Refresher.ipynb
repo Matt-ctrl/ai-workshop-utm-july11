{
  "nbformat": 4,
  "nbformat_minor": 0,
  "metadata": {
    "colab": {
      "provenance": [],
      "authorship_tag": "ABX9TyMSCBTlxM4/VtlI9t06R6mZ",
      "include_colab_link": true
    },
    "kernelspec": {
      "name": "python3",
      "display_name": "Python 3"
    },
    "language_info": {
      "name": "python"
    }
  },
  "cells": [
    {
      "cell_type": "markdown",
      "metadata": {
        "id": "view-in-github",
        "colab_type": "text"
      },
      "source": [
        "<a href=\"https://colab.research.google.com/github/Matt-ctrl/ai-workshop-utm-july11/blob/main/Shared_Basic_Python_Refresher.ipynb\" target=\"_parent\"><img src=\"https://colab.research.google.com/assets/colab-badge.svg\" alt=\"Open In Colab\"/></a>"
      ]
    },
    {
      "cell_type": "markdown",
      "source": [
        "# 1.  Basic syntax, variables and datatype"
      ],
      "metadata": {
        "id": "_vYj3MCcprdg"
      }
    },
    {
      "cell_type": "code",
      "source": [
        "def test_function():\n",
        "  print(\"Hello World\") #you can see we used indent, to\n",
        "\n",
        "a = None\n",
        "\n",
        "if a is None:\n",
        "  print('a is None') # Indentation puts this line-\n",
        "  #-inside the if-statement’s scope.\n",
        "\n",
        "x = 42         # int\n",
        "pi = 3.14      # float\n",
        "name = \"Ada\"   # str\n",
        "is_ai = True   # bool"
      ],
      "metadata": {
        "colab": {
          "base_uri": "https://localhost:8080/"
        },
        "id": "RSnd8Ga0pqkc",
        "outputId": "dfce98ba-4b2d-41d3-c658-c2e53a254478"
      },
      "execution_count": null,
      "outputs": [
        {
          "output_type": "stream",
          "name": "stdout",
          "text": [
            "a is None\n"
          ]
        }
      ]
    },
    {
      "cell_type": "markdown",
      "source": [
        "## 1. Exercises 1 (basic syntax, variables and datatype)\n",
        "\n",
        "print `\"hello world\"` to console. You can used `print(\"hello world\")`\n"
      ],
      "metadata": {
        "id": "d1bW1jCuOUdf"
      }
    },
    {
      "cell_type": "code",
      "execution_count": null,
      "metadata": {
        "id": "b0-39e68NxFM"
      },
      "outputs": [],
      "source": [
        "\n",
        "# you can used print() to log\n",
        "def log_output(): #TODO: write your log here, write 'print(\"hello world\")' inside the function using proper syntax\n",
        "\n",
        "\n",
        "\n",
        "#TODO: Assign the proper type to the variables below\n",
        "\n",
        "str_var =  #assign str variable\n",
        "int_var =   #assign int variable\n",
        "float_var = #assign float variable\n",
        "bool_var =  #assign bool variable\n",
        "\n",
        "\n",
        "#DONT CHANGE ANYTHING BELOW\n",
        "def check_answer_1():\n",
        "  global str_var, int_var, float_var, bool_var\n",
        "\n",
        "  log_output()\n",
        "\n",
        "  #chck\n",
        "  print(type(str_var), type(int_var), type(float_var), type(bool_var))\n",
        "\n",
        "  if type(str_var) == str:\n",
        "    print(\"correct\")\n",
        "  else:\n",
        "    print(\"incorrect str assignment\")\n",
        "\n",
        "  if type(int_var) == int:\n",
        "    print(\"correct\")\n",
        "  else:\n",
        "    print(\"incorrect int assingment\")\n",
        "\n",
        "  if type(float_var) == float:\n",
        "    print(\"correct\")\n",
        "  else:\n",
        "    print(\"incorrect float assingment\")\n",
        "\n",
        "  if type(bool_var) == bool:\n",
        "    print(\"correct\")\n",
        "  else:\n",
        "    print(\"incorrect bool assingment\")\n",
        "\n",
        "\n",
        "\n",
        "#run\n",
        "check_answer_1()\n"
      ]
    },
    {
      "cell_type": "markdown",
      "source": [
        "# 2 Conditional Statement"
      ],
      "metadata": {
        "id": "W1T4Eg41p7TP"
      }
    },
    {
      "cell_type": "code",
      "source": [
        "score = 85\n",
        "\n",
        "if score >= 85:\n",
        "  print(\"your result gred is A\")\n",
        "elif score >= 65:\n",
        "  print(\"your result gred is B\")\n",
        "elif score >= 50:\n",
        "  print(\"your result gred is C\")\n",
        "elif score >= 40:\n",
        "  print(\"your result gred is C\")\n",
        "else:\n",
        "  print(\"Keep trying\")"
      ],
      "metadata": {
        "colab": {
          "base_uri": "https://localhost:8080/"
        },
        "id": "eLLFvZuYp7II",
        "outputId": "f191f3e3-be14-49ab-9e74-804808664c38"
      },
      "execution_count": null,
      "outputs": [
        {
          "output_type": "stream",
          "name": "stdout",
          "text": [
            "your result gred is A\n"
          ]
        }
      ]
    },
    {
      "cell_type": "markdown",
      "source": [
        "## Exercise 2\n"
      ],
      "metadata": {
        "id": "psE5JZwmx02_"
      }
    },
    {
      "cell_type": "code",
      "source": [
        "temperature = 35  # you can change this value\n",
        "\n",
        "# TODO: Write code to check the temperature:\n",
        "# If temperature is above 35, print \"Too hot\"\n",
        "# If temperature is between 20 (inclusive) and 35 (inclusive), print \"It's nice\"\n",
        "# If it's below 20, print \"Too cold\"\n"
      ],
      "metadata": {
        "collapsed": true,
        "id": "ikKoSDoRx2s6"
      },
      "execution_count": null,
      "outputs": []
    },
    {
      "cell_type": "markdown",
      "source": [
        "# 3. Looping"
      ],
      "metadata": {
        "id": "r4aGfPfBp22d"
      }
    },
    {
      "cell_type": "code",
      "source": [
        "#for loop\n",
        "for i in range(5):\n",
        "  print(i)"
      ],
      "metadata": {
        "colab": {
          "base_uri": "https://localhost:8080/"
        },
        "id": "12OXzJiTi4Jo",
        "outputId": "8f510d71-cd32-4a87-a700-3f4e60969e83"
      },
      "execution_count": null,
      "outputs": [
        {
          "output_type": "stream",
          "name": "stdout",
          "text": [
            "0\n",
            "1\n",
            "2\n",
            "3\n",
            "4\n"
          ]
        }
      ]
    },
    {
      "cell_type": "code",
      "source": [
        "#while loop\n",
        "count = 0\n",
        "while count < 5:\n",
        "  print(count)\n",
        "  count += 1"
      ],
      "metadata": {
        "colab": {
          "base_uri": "https://localhost:8080/"
        },
        "id": "VXyxbAarm2mL",
        "outputId": "0779e4cf-18bd-4231-af7d-b292c4c2cbd4"
      },
      "execution_count": null,
      "outputs": [
        {
          "output_type": "stream",
          "name": "stdout",
          "text": [
            "0\n",
            "1\n",
            "2\n",
            "3\n",
            "4\n"
          ]
        }
      ]
    },
    {
      "cell_type": "markdown",
      "source": [
        "## Exercise 3"
      ],
      "metadata": {
        "id": "usLYG9Zt0OS-"
      }
    },
    {
      "cell_type": "code",
      "source": [
        "# TODO: Use a for loop to print numbers from 1 to 5\n",
        "# Hint: Use range(start, stop, step)\n",
        "# Example: range(0, 5, 1) → starts at 0, ends before 5, increments by 1\n",
        "\n",
        "# To match output from 1 to 5, start at 1 and go up to 6 (because stop is excluded)\n",
        "\n",
        "\n",
        "# Expected Output:\n",
        "# 1\n",
        "# 2\n",
        "# 3\n",
        "# 4\n",
        "# 5\n"
      ],
      "metadata": {
        "id": "ZPW5VjOi0NZz"
      },
      "execution_count": null,
      "outputs": []
    },
    {
      "cell_type": "code",
      "source": [
        "# TODO: Use a while loop to print even numbers below 10\n",
        "# Hint: Use the % operator to check for even numbers (remainder == 0)\n",
        "# example  10 % 2 == 0, *True (10 divide by 2, no remainder so we get 0)\n",
        "\n",
        "a = 0\n",
        "\n",
        "#while loop #! NEED TO DELETE/HIDE\n",
        "\n",
        "\n",
        "\n",
        "\n",
        "# Expected Output:\n",
        "# 0\n",
        "# 2\n",
        "# 4\n",
        "# 6\n",
        "# 8"
      ],
      "metadata": {
        "colab": {
          "base_uri": "https://localhost:8080/"
        },
        "id": "Np2cyZaC1U6e",
        "outputId": "146e2b2a-777e-44e9-f50e-2e6094335c90"
      },
      "execution_count": null,
      "outputs": [
        {
          "output_type": "stream",
          "name": "stdout",
          "text": [
            "0\n",
            "2\n",
            "4\n",
            "6\n",
            "8\n"
          ]
        }
      ]
    },
    {
      "cell_type": "markdown",
      "source": [
        "# 4. Function"
      ],
      "metadata": {
        "id": "eENC21zDqHCj"
      }
    },
    {
      "cell_type": "code",
      "source": [
        "def my_function(param):\n",
        "  # do something with the param\n",
        "  result = param + 1  #let say we add 1 to the param\n",
        "\n",
        "\n",
        "  return result #this is something you return, although return is optional\n",
        "\n",
        "\n",
        "arg = 5 #this is argument that you want to pass to the function\n",
        "output = my_function(arg) #invoke (call) and pass the arg var to the function\n",
        "\n",
        "\n",
        "print(output)"
      ],
      "metadata": {
        "colab": {
          "base_uri": "https://localhost:8080/"
        },
        "id": "DkBliZASpjJr",
        "outputId": "8250fe1c-ae45-4601-f9e7-bcb307cc9ce8"
      },
      "execution_count": null,
      "outputs": [
        {
          "output_type": "stream",
          "name": "stdout",
          "text": [
            "6\n"
          ]
        }
      ]
    },
    {
      "cell_type": "markdown",
      "source": [
        "## Exercise 4\n",
        "\n",
        "- Task 1: write function called `log_name` that accepts username as agument, and prints \"hello `username`\", you can used it like this `print(f\"hello {yourname}\")`\n",
        "\n",
        "- Task 2: Write a function called `add` that accepts two number arguments"
      ],
      "metadata": {
        "id": "aULW8xa04mM5"
      }
    },
    {
      "cell_type": "code",
      "source": [
        "#Task 1, example ->  def log_username(yourname):\n",
        "name = \"harry\" #write the name here\n",
        "\n",
        "#TODO write your function here\n",
        "\n",
        "\n",
        "#TODO invoke the function log name\n",
        "\n",
        "\n",
        "#Task 2, example -> add(a, b)\n",
        "a = 1\n",
        "b = 2\n",
        "\n",
        "#TODO write you function here\n",
        "\n",
        "\n",
        "output = add(a, b)\n",
        "print(output)\n",
        "\n"
      ],
      "metadata": {
        "collapsed": true,
        "id": "Mwjv_uJy4nq4"
      },
      "execution_count": null,
      "outputs": []
    },
    {
      "cell_type": "markdown",
      "source": [
        "# 5 Lists"
      ],
      "metadata": {
        "id": "XhTS-nsjtsaz"
      }
    },
    {
      "cell_type": "code",
      "source": [
        "my_shelves_of_favourite_games = [\"Expedition 33\", \"Elden Ring\", \"Death Stranding\", \"Warhammer 40K\", \"DAV\"]\n",
        "# This list contains my favorite games, arranged in order:\n",
        "# The first one is my most favorite, the last is the least.\n",
        "\n",
        "my_shelves_of_favourite_games.append(\"Diablo 4\")  # I bought a new game, but I didn't like it\n",
        "\n",
        "print(\"Let's check the list after adding a new game:\", my_shelves_of_favourite_games, '\\n')\n",
        "# Let's see how the order looks now\n",
        "\n",
        "my_shelves_of_favourite_games.remove(\"DAV\")  # I decided to sell my least favorite game\n",
        "\n",
        "print(\"Here's the updated list of games I have left:\", my_shelves_of_favourite_games)\n"
      ],
      "metadata": {
        "colab": {
          "base_uri": "https://localhost:8080/"
        },
        "id": "teS9DV60wCaf",
        "outputId": "1cc43d4f-fadb-4031-d8ef-90288482982a"
      },
      "execution_count": null,
      "outputs": [
        {
          "output_type": "stream",
          "name": "stdout",
          "text": [
            "Let's check the list after adding a new game: ['Expedition 33', 'Elden Ring', 'Death Stranding', 'Warhammer 40K', 'DAV', 'Diablo 4'] \n",
            "\n",
            "Here's the updated list of games I have left: ['Expedition 33', 'Elden Ring', 'Death Stranding', 'Warhammer 40K', 'Diablo 4']\n"
          ]
        }
      ]
    },
    {
      "cell_type": "markdown",
      "source": [
        "## Exercise 5"
      ],
      "metadata": {
        "id": "_eJQVXR9766P"
      }
    },
    {
      "cell_type": "code",
      "source": [
        "# TODO: Create a list of your 5 favorite movies\n",
        "# Arrange them in order from most favorite (first) to least favorite (last)\n",
        "\n",
        "my_movies = []  # <- Add your 5 movies here\n",
        "\n",
        "# Print the full list\n"
      ],
      "metadata": {
        "id": "Co_H9Ii3wnTf"
      },
      "execution_count": null,
      "outputs": []
    },
    {
      "cell_type": "code",
      "source": [
        "# TODO: Print your top 1 favorite movie using indexing\n"
      ],
      "metadata": {
        "id": "eXFwO6AM8CV2"
      },
      "execution_count": null,
      "outputs": []
    },
    {
      "cell_type": "code",
      "source": [
        "# TODO: Remove your least favorite movie from the list using .remove() or del\n",
        "\n",
        "# Example:\n",
        "# my_movies.remove(\"MovieTitle\") or del my_movies[-1]\n",
        "\n",
        "# Print the updated list\n"
      ],
      "metadata": {
        "id": "j-MFPvR68K14"
      },
      "execution_count": null,
      "outputs": []
    }
  ]
}